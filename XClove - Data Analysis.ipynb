{
 "cells": [
  {
   "cell_type": "markdown",
   "metadata": {},
   "source": [
    "##  XClove Time Series Data Visualized\n",
    "\n",
    "XClove has several sensors available for testing in September 10-17. It will give the sensor data of:\n",
    "\n",
    "Temperature (C)\n",
    "Humidity (%)\n",
    "Moisture (%)\n",
    "Weight (gram)"
   ]
  },
  {
   "cell_type": "markdown",
   "metadata": {},
   "source": [
    "### 1. Load the csv from directory"
   ]
  },
  {
   "cell_type": "code",
   "execution_count": 1,
   "metadata": {},
   "outputs": [
    {
     "data": {
      "text/html": [
       "<div>\n",
       "<style scoped>\n",
       "    .dataframe tbody tr th:only-of-type {\n",
       "        vertical-align: middle;\n",
       "    }\n",
       "\n",
       "    .dataframe tbody tr th {\n",
       "        vertical-align: top;\n",
       "    }\n",
       "\n",
       "    .dataframe thead th {\n",
       "        text-align: right;\n",
       "    }\n",
       "</style>\n",
       "<table border=\"1\" class=\"dataframe\">\n",
       "  <thead>\n",
       "    <tr style=\"text-align: right;\">\n",
       "      <th></th>\n",
       "      <th>created_at</th>\n",
       "      <th>entry_id</th>\n",
       "      <th>temperature</th>\n",
       "      <th>humidity</th>\n",
       "      <th>moisture</th>\n",
       "      <th>field4</th>\n",
       "    </tr>\n",
       "  </thead>\n",
       "  <tbody>\n",
       "    <tr>\n",
       "      <th>0</th>\n",
       "      <td>2020-09-10 23:30:56 WIB</td>\n",
       "      <td>3761</td>\n",
       "      <td>27.2</td>\n",
       "      <td>90.6</td>\n",
       "      <td>105</td>\n",
       "      <td>2206.42</td>\n",
       "    </tr>\n",
       "    <tr>\n",
       "      <th>1</th>\n",
       "      <td>2020-09-10 23:31:12 WIB</td>\n",
       "      <td>3762</td>\n",
       "      <td>NAN</td>\n",
       "      <td>NAN</td>\n",
       "      <td>93</td>\n",
       "      <td>2306.42</td>\n",
       "    </tr>\n",
       "    <tr>\n",
       "      <th>2</th>\n",
       "      <td>2020-09-10 23:31:28 WIB</td>\n",
       "      <td>3763</td>\n",
       "      <td>27.1</td>\n",
       "      <td>91.1</td>\n",
       "      <td>119</td>\n",
       "      <td>2347.95</td>\n",
       "    </tr>\n",
       "    <tr>\n",
       "      <th>3</th>\n",
       "      <td>2020-09-10 23:31:45 WIB</td>\n",
       "      <td>3764</td>\n",
       "      <td>27</td>\n",
       "      <td>90.7</td>\n",
       "      <td>108</td>\n",
       "      <td>2452.00</td>\n",
       "    </tr>\n",
       "    <tr>\n",
       "      <th>4</th>\n",
       "      <td>2020-09-10 23:32:01 WIB</td>\n",
       "      <td>3765</td>\n",
       "      <td>27</td>\n",
       "      <td>90.8</td>\n",
       "      <td>115</td>\n",
       "      <td>2279.26</td>\n",
       "    </tr>\n",
       "    <tr>\n",
       "      <th>...</th>\n",
       "      <td>...</td>\n",
       "      <td>...</td>\n",
       "      <td>...</td>\n",
       "      <td>...</td>\n",
       "      <td>...</td>\n",
       "      <td>...</td>\n",
       "    </tr>\n",
       "    <tr>\n",
       "      <th>27268</th>\n",
       "      <td>2020-09-17 10:30:59 WIB</td>\n",
       "      <td>31029</td>\n",
       "      <td>45</td>\n",
       "      <td>42</td>\n",
       "      <td>28</td>\n",
       "      <td>119.95</td>\n",
       "    </tr>\n",
       "    <tr>\n",
       "      <th>27269</th>\n",
       "      <td>2020-09-17 10:31:15 WIB</td>\n",
       "      <td>31030</td>\n",
       "      <td>44.9</td>\n",
       "      <td>42.8</td>\n",
       "      <td>22</td>\n",
       "      <td>130.21</td>\n",
       "    </tr>\n",
       "    <tr>\n",
       "      <th>27270</th>\n",
       "      <td>2020-09-17 10:31:31 WIB</td>\n",
       "      <td>31031</td>\n",
       "      <td>NAN</td>\n",
       "      <td>NAN</td>\n",
       "      <td>45</td>\n",
       "      <td>123.26</td>\n",
       "    </tr>\n",
       "    <tr>\n",
       "      <th>27271</th>\n",
       "      <td>2020-09-17 10:31:47 WIB</td>\n",
       "      <td>31032</td>\n",
       "      <td>45</td>\n",
       "      <td>43.8</td>\n",
       "      <td>45</td>\n",
       "      <td>131.95</td>\n",
       "    </tr>\n",
       "    <tr>\n",
       "      <th>27272</th>\n",
       "      <td>2020-09-17 10:32:03 WIB</td>\n",
       "      <td>31033</td>\n",
       "      <td>45.1</td>\n",
       "      <td>43.6</td>\n",
       "      <td>32</td>\n",
       "      <td>152.74</td>\n",
       "    </tr>\n",
       "  </tbody>\n",
       "</table>\n",
       "<p>27273 rows × 6 columns</p>\n",
       "</div>"
      ],
      "text/plain": [
       "                    created_at  entry_id temperature humidity  moisture  \\\n",
       "0      2020-09-10 23:30:56 WIB      3761        27.2     90.6       105   \n",
       "1      2020-09-10 23:31:12 WIB      3762         NAN      NAN        93   \n",
       "2      2020-09-10 23:31:28 WIB      3763        27.1     91.1       119   \n",
       "3      2020-09-10 23:31:45 WIB      3764          27     90.7       108   \n",
       "4      2020-09-10 23:32:01 WIB      3765          27     90.8       115   \n",
       "...                        ...       ...         ...      ...       ...   \n",
       "27268  2020-09-17 10:30:59 WIB     31029          45       42        28   \n",
       "27269  2020-09-17 10:31:15 WIB     31030        44.9     42.8        22   \n",
       "27270  2020-09-17 10:31:31 WIB     31031         NAN      NAN        45   \n",
       "27271  2020-09-17 10:31:47 WIB     31032          45     43.8        45   \n",
       "27272  2020-09-17 10:32:03 WIB     31033        45.1     43.6        32   \n",
       "\n",
       "        field4  \n",
       "0      2206.42  \n",
       "1      2306.42  \n",
       "2      2347.95  \n",
       "3      2452.00  \n",
       "4      2279.26  \n",
       "...        ...  \n",
       "27268   119.95  \n",
       "27269   130.21  \n",
       "27270   123.26  \n",
       "27271   131.95  \n",
       "27272   152.74  \n",
       "\n",
       "[27273 rows x 6 columns]"
      ]
     },
     "execution_count": 1,
     "metadata": {},
     "output_type": "execute_result"
    }
   ],
   "source": [
    "import pandas as pd\n",
    "import numpy as np\n",
    "import datetime as dt\n",
    "clovescsv = pd.read_csv(\"D:\\Kuliah\\XLFL\\IoT\\Data Feed In/feed 10-17 sept clean.csv\")\n",
    "clovescsv"
   ]
  },
  {
   "cell_type": "markdown",
   "metadata": {},
   "source": [
    "or basically just use ibm_db that I uploaded (error)"
   ]
  },
  {
   "cell_type": "markdown",
   "metadata": {},
   "source": [
    "###### Data Information"
   ]
  },
  {
   "cell_type": "markdown",
   "metadata": {},
   "source": [
    "Data types"
   ]
  },
  {
   "cell_type": "code",
   "execution_count": 2,
   "metadata": {},
   "outputs": [
    {
     "data": {
      "text/plain": [
       "created_at      object\n",
       "entry_id         int64\n",
       "temperature     object\n",
       "humidity        object\n",
       "moisture         int64\n",
       "field4         float64\n",
       "dtype: object"
      ]
     },
     "execution_count": 2,
     "metadata": {},
     "output_type": "execute_result"
    }
   ],
   "source": [
    "clovescsv.dtypes"
   ]
  },
  {
   "cell_type": "markdown",
   "metadata": {},
   "source": [
    "Data counts"
   ]
  },
  {
   "cell_type": "code",
   "execution_count": 3,
   "metadata": {},
   "outputs": [
    {
     "data": {
      "text/plain": [
       "created_at     27273\n",
       "entry_id       27273\n",
       "temperature    27273\n",
       "humidity       27273\n",
       "moisture       27273\n",
       "field4         27273\n",
       "dtype: int64"
      ]
     },
     "execution_count": 3,
     "metadata": {},
     "output_type": "execute_result"
    }
   ],
   "source": [
    "clovescsv.count()"
   ]
  },
  {
   "cell_type": "markdown",
   "metadata": {},
   "source": [
    "###### Replace NaN value of Data\n",
    "I wanna replace the NAN value with average from above 5 and below 5 of data"
   ]
  },
  {
   "cell_type": "code",
   "execution_count": 4,
   "metadata": {},
   "outputs": [
    {
     "data": {
      "text/html": [
       "<div>\n",
       "<style scoped>\n",
       "    .dataframe tbody tr th:only-of-type {\n",
       "        vertical-align: middle;\n",
       "    }\n",
       "\n",
       "    .dataframe tbody tr th {\n",
       "        vertical-align: top;\n",
       "    }\n",
       "\n",
       "    .dataframe thead th {\n",
       "        text-align: right;\n",
       "    }\n",
       "</style>\n",
       "<table border=\"1\" class=\"dataframe\">\n",
       "  <thead>\n",
       "    <tr style=\"text-align: right;\">\n",
       "      <th></th>\n",
       "      <th>created_at</th>\n",
       "      <th>entry_id</th>\n",
       "      <th>temperature</th>\n",
       "      <th>humidity</th>\n",
       "      <th>moisture</th>\n",
       "      <th>field4</th>\n",
       "    </tr>\n",
       "  </thead>\n",
       "  <tbody>\n",
       "    <tr>\n",
       "      <th>1</th>\n",
       "      <td>2020-09-10 23:31:12 WIB</td>\n",
       "      <td>3762</td>\n",
       "      <td>NAN</td>\n",
       "      <td>NAN</td>\n",
       "      <td>93</td>\n",
       "      <td>2306.42</td>\n",
       "    </tr>\n",
       "    <tr>\n",
       "      <th>9</th>\n",
       "      <td>2020-09-10 23:33:23 WIB</td>\n",
       "      <td>3770</td>\n",
       "      <td>NAN</td>\n",
       "      <td>NAN</td>\n",
       "      <td>111</td>\n",
       "      <td>2246.42</td>\n",
       "    </tr>\n",
       "    <tr>\n",
       "      <th>17</th>\n",
       "      <td>2020-09-10 23:35:33 WIB</td>\n",
       "      <td>3778</td>\n",
       "      <td>NAN</td>\n",
       "      <td>NAN</td>\n",
       "      <td>128</td>\n",
       "      <td>2150.68</td>\n",
       "    </tr>\n",
       "    <tr>\n",
       "      <th>22</th>\n",
       "      <td>2020-09-10 23:36:54 WIB</td>\n",
       "      <td>3783</td>\n",
       "      <td>NAN</td>\n",
       "      <td>NAN</td>\n",
       "      <td>130</td>\n",
       "      <td>2134.11</td>\n",
       "    </tr>\n",
       "    <tr>\n",
       "      <th>23</th>\n",
       "      <td>2020-09-10 23:37:10 WIB</td>\n",
       "      <td>3784</td>\n",
       "      <td>NAN</td>\n",
       "      <td>NAN</td>\n",
       "      <td>130</td>\n",
       "      <td>2132.32</td>\n",
       "    </tr>\n",
       "    <tr>\n",
       "      <th>...</th>\n",
       "      <td>...</td>\n",
       "      <td>...</td>\n",
       "      <td>...</td>\n",
       "      <td>...</td>\n",
       "      <td>...</td>\n",
       "      <td>...</td>\n",
       "    </tr>\n",
       "    <tr>\n",
       "      <th>27255</th>\n",
       "      <td>2020-09-17 10:27:27 WIB</td>\n",
       "      <td>31016</td>\n",
       "      <td>NAN</td>\n",
       "      <td>NAN</td>\n",
       "      <td>43</td>\n",
       "      <td>136.95</td>\n",
       "    </tr>\n",
       "    <tr>\n",
       "      <th>27258</th>\n",
       "      <td>2020-09-17 10:28:16 WIB</td>\n",
       "      <td>31019</td>\n",
       "      <td>NAN</td>\n",
       "      <td>NAN</td>\n",
       "      <td>38</td>\n",
       "      <td>139.58</td>\n",
       "    </tr>\n",
       "    <tr>\n",
       "      <th>27260</th>\n",
       "      <td>2020-09-17 10:28:49 WIB</td>\n",
       "      <td>31021</td>\n",
       "      <td>NAN</td>\n",
       "      <td>NAN</td>\n",
       "      <td>40</td>\n",
       "      <td>130.53</td>\n",
       "    </tr>\n",
       "    <tr>\n",
       "      <th>27265</th>\n",
       "      <td>2020-09-17 10:30:10 WIB</td>\n",
       "      <td>31026</td>\n",
       "      <td>NAN</td>\n",
       "      <td>NAN</td>\n",
       "      <td>40</td>\n",
       "      <td>125.37</td>\n",
       "    </tr>\n",
       "    <tr>\n",
       "      <th>27270</th>\n",
       "      <td>2020-09-17 10:31:31 WIB</td>\n",
       "      <td>31031</td>\n",
       "      <td>NAN</td>\n",
       "      <td>NAN</td>\n",
       "      <td>45</td>\n",
       "      <td>123.26</td>\n",
       "    </tr>\n",
       "  </tbody>\n",
       "</table>\n",
       "<p>2445 rows × 6 columns</p>\n",
       "</div>"
      ],
      "text/plain": [
       "                    created_at  entry_id temperature humidity  moisture  \\\n",
       "1      2020-09-10 23:31:12 WIB      3762         NAN      NAN        93   \n",
       "9      2020-09-10 23:33:23 WIB      3770         NAN      NAN       111   \n",
       "17     2020-09-10 23:35:33 WIB      3778         NAN      NAN       128   \n",
       "22     2020-09-10 23:36:54 WIB      3783         NAN      NAN       130   \n",
       "23     2020-09-10 23:37:10 WIB      3784         NAN      NAN       130   \n",
       "...                        ...       ...         ...      ...       ...   \n",
       "27255  2020-09-17 10:27:27 WIB     31016         NAN      NAN        43   \n",
       "27258  2020-09-17 10:28:16 WIB     31019         NAN      NAN        38   \n",
       "27260  2020-09-17 10:28:49 WIB     31021         NAN      NAN        40   \n",
       "27265  2020-09-17 10:30:10 WIB     31026         NAN      NAN        40   \n",
       "27270  2020-09-17 10:31:31 WIB     31031         NAN      NAN        45   \n",
       "\n",
       "        field4  \n",
       "1      2306.42  \n",
       "9      2246.42  \n",
       "17     2150.68  \n",
       "22     2134.11  \n",
       "23     2132.32  \n",
       "...        ...  \n",
       "27255   136.95  \n",
       "27258   139.58  \n",
       "27260   130.53  \n",
       "27265   125.37  \n",
       "27270   123.26  \n",
       "\n",
       "[2445 rows x 6 columns]"
      ]
     },
     "execution_count": 4,
     "metadata": {},
     "output_type": "execute_result"
    }
   ],
   "source": [
    "clovescsv[clovescsv.humidity==\" NAN\"]"
   ]
  },
  {
   "cell_type": "code",
   "execution_count": 5,
   "metadata": {},
   "outputs": [
    {
     "data": {
      "text/html": [
       "<div>\n",
       "<style scoped>\n",
       "    .dataframe tbody tr th:only-of-type {\n",
       "        vertical-align: middle;\n",
       "    }\n",
       "\n",
       "    .dataframe tbody tr th {\n",
       "        vertical-align: top;\n",
       "    }\n",
       "\n",
       "    .dataframe thead th {\n",
       "        text-align: right;\n",
       "    }\n",
       "</style>\n",
       "<table border=\"1\" class=\"dataframe\">\n",
       "  <thead>\n",
       "    <tr style=\"text-align: right;\">\n",
       "      <th></th>\n",
       "      <th>created_at</th>\n",
       "      <th>entry_id</th>\n",
       "      <th>temperature</th>\n",
       "      <th>humidity</th>\n",
       "      <th>moisture</th>\n",
       "      <th>field4</th>\n",
       "    </tr>\n",
       "  </thead>\n",
       "  <tbody>\n",
       "    <tr>\n",
       "      <th>0</th>\n",
       "      <td>2020-09-10 23:30:56 WIB</td>\n",
       "      <td>3761</td>\n",
       "      <td>27.2</td>\n",
       "      <td>90.6</td>\n",
       "      <td>105</td>\n",
       "      <td>2206.42</td>\n",
       "    </tr>\n",
       "    <tr>\n",
       "      <th>1</th>\n",
       "      <td>2020-09-10 23:31:12 WIB</td>\n",
       "      <td>3762</td>\n",
       "      <td>NAN</td>\n",
       "      <td>NAN</td>\n",
       "      <td>93</td>\n",
       "      <td>2306.42</td>\n",
       "    </tr>\n",
       "    <tr>\n",
       "      <th>2</th>\n",
       "      <td>2020-09-10 23:31:28 WIB</td>\n",
       "      <td>3763</td>\n",
       "      <td>27.1</td>\n",
       "      <td>91.1</td>\n",
       "      <td>119</td>\n",
       "      <td>2347.95</td>\n",
       "    </tr>\n",
       "    <tr>\n",
       "      <th>3</th>\n",
       "      <td>2020-09-10 23:31:45 WIB</td>\n",
       "      <td>3764</td>\n",
       "      <td>27</td>\n",
       "      <td>90.7</td>\n",
       "      <td>108</td>\n",
       "      <td>2452.00</td>\n",
       "    </tr>\n",
       "    <tr>\n",
       "      <th>4</th>\n",
       "      <td>2020-09-10 23:32:01 WIB</td>\n",
       "      <td>3765</td>\n",
       "      <td>27</td>\n",
       "      <td>90.8</td>\n",
       "      <td>115</td>\n",
       "      <td>2279.26</td>\n",
       "    </tr>\n",
       "    <tr>\n",
       "      <th>...</th>\n",
       "      <td>...</td>\n",
       "      <td>...</td>\n",
       "      <td>...</td>\n",
       "      <td>...</td>\n",
       "      <td>...</td>\n",
       "      <td>...</td>\n",
       "    </tr>\n",
       "    <tr>\n",
       "      <th>27268</th>\n",
       "      <td>2020-09-17 10:30:59 WIB</td>\n",
       "      <td>31029</td>\n",
       "      <td>45</td>\n",
       "      <td>42</td>\n",
       "      <td>28</td>\n",
       "      <td>119.95</td>\n",
       "    </tr>\n",
       "    <tr>\n",
       "      <th>27269</th>\n",
       "      <td>2020-09-17 10:31:15 WIB</td>\n",
       "      <td>31030</td>\n",
       "      <td>44.9</td>\n",
       "      <td>42.8</td>\n",
       "      <td>22</td>\n",
       "      <td>130.21</td>\n",
       "    </tr>\n",
       "    <tr>\n",
       "      <th>27270</th>\n",
       "      <td>2020-09-17 10:31:31 WIB</td>\n",
       "      <td>31031</td>\n",
       "      <td>NAN</td>\n",
       "      <td>NAN</td>\n",
       "      <td>45</td>\n",
       "      <td>123.26</td>\n",
       "    </tr>\n",
       "    <tr>\n",
       "      <th>27271</th>\n",
       "      <td>2020-09-17 10:31:47 WIB</td>\n",
       "      <td>31032</td>\n",
       "      <td>45</td>\n",
       "      <td>43.8</td>\n",
       "      <td>45</td>\n",
       "      <td>131.95</td>\n",
       "    </tr>\n",
       "    <tr>\n",
       "      <th>27272</th>\n",
       "      <td>2020-09-17 10:32:03 WIB</td>\n",
       "      <td>31033</td>\n",
       "      <td>45.1</td>\n",
       "      <td>43.6</td>\n",
       "      <td>32</td>\n",
       "      <td>152.74</td>\n",
       "    </tr>\n",
       "  </tbody>\n",
       "</table>\n",
       "<p>27273 rows × 6 columns</p>\n",
       "</div>"
      ],
      "text/plain": [
       "                    created_at  entry_id temperature humidity  moisture  \\\n",
       "0      2020-09-10 23:30:56 WIB      3761        27.2     90.6       105   \n",
       "1      2020-09-10 23:31:12 WIB      3762         NAN      NAN        93   \n",
       "2      2020-09-10 23:31:28 WIB      3763        27.1     91.1       119   \n",
       "3      2020-09-10 23:31:45 WIB      3764          27     90.7       108   \n",
       "4      2020-09-10 23:32:01 WIB      3765          27     90.8       115   \n",
       "...                        ...       ...         ...      ...       ...   \n",
       "27268  2020-09-17 10:30:59 WIB     31029          45       42        28   \n",
       "27269  2020-09-17 10:31:15 WIB     31030        44.9     42.8        22   \n",
       "27270  2020-09-17 10:31:31 WIB     31031         NAN      NAN        45   \n",
       "27271  2020-09-17 10:31:47 WIB     31032          45     43.8        45   \n",
       "27272  2020-09-17 10:32:03 WIB     31033        45.1     43.6        32   \n",
       "\n",
       "        field4  \n",
       "0      2206.42  \n",
       "1      2306.42  \n",
       "2      2347.95  \n",
       "3      2452.00  \n",
       "4      2279.26  \n",
       "...        ...  \n",
       "27268   119.95  \n",
       "27269   130.21  \n",
       "27270   123.26  \n",
       "27271   131.95  \n",
       "27272   152.74  \n",
       "\n",
       "[27273 rows x 6 columns]"
      ]
     },
     "execution_count": 5,
     "metadata": {},
     "output_type": "execute_result"
    }
   ],
   "source": [
    "cleandf = clovescsv.copy()\n",
    "cleandf"
   ]
  },
  {
   "cell_type": "code",
   "execution_count": 6,
   "metadata": {},
   "outputs": [
    {
     "data": {
      "text/html": [
       "<div>\n",
       "<style scoped>\n",
       "    .dataframe tbody tr th:only-of-type {\n",
       "        vertical-align: middle;\n",
       "    }\n",
       "\n",
       "    .dataframe tbody tr th {\n",
       "        vertical-align: top;\n",
       "    }\n",
       "\n",
       "    .dataframe thead th {\n",
       "        text-align: right;\n",
       "    }\n",
       "</style>\n",
       "<table border=\"1\" class=\"dataframe\">\n",
       "  <thead>\n",
       "    <tr style=\"text-align: right;\">\n",
       "      <th></th>\n",
       "      <th>created_at</th>\n",
       "      <th>entry_id</th>\n",
       "      <th>temperature</th>\n",
       "      <th>humidity</th>\n",
       "      <th>moisture</th>\n",
       "      <th>field4</th>\n",
       "    </tr>\n",
       "  </thead>\n",
       "  <tbody>\n",
       "    <tr>\n",
       "      <th>0</th>\n",
       "      <td>2020-09-10 23:30:56 WIB</td>\n",
       "      <td>3761</td>\n",
       "      <td>27.2</td>\n",
       "      <td>90.6</td>\n",
       "      <td>105</td>\n",
       "      <td>2206.42</td>\n",
       "    </tr>\n",
       "    <tr>\n",
       "      <th>1</th>\n",
       "      <td>2020-09-10 23:31:12 WIB</td>\n",
       "      <td>3762</td>\n",
       "      <td>27.2</td>\n",
       "      <td>90.6</td>\n",
       "      <td>93</td>\n",
       "      <td>2306.42</td>\n",
       "    </tr>\n",
       "    <tr>\n",
       "      <th>2</th>\n",
       "      <td>2020-09-10 23:31:28 WIB</td>\n",
       "      <td>3763</td>\n",
       "      <td>27.1</td>\n",
       "      <td>91.1</td>\n",
       "      <td>119</td>\n",
       "      <td>2347.95</td>\n",
       "    </tr>\n",
       "    <tr>\n",
       "      <th>3</th>\n",
       "      <td>2020-09-10 23:31:45 WIB</td>\n",
       "      <td>3764</td>\n",
       "      <td>27</td>\n",
       "      <td>90.7</td>\n",
       "      <td>108</td>\n",
       "      <td>2452.00</td>\n",
       "    </tr>\n",
       "    <tr>\n",
       "      <th>4</th>\n",
       "      <td>2020-09-10 23:32:01 WIB</td>\n",
       "      <td>3765</td>\n",
       "      <td>27</td>\n",
       "      <td>90.8</td>\n",
       "      <td>115</td>\n",
       "      <td>2279.26</td>\n",
       "    </tr>\n",
       "    <tr>\n",
       "      <th>...</th>\n",
       "      <td>...</td>\n",
       "      <td>...</td>\n",
       "      <td>...</td>\n",
       "      <td>...</td>\n",
       "      <td>...</td>\n",
       "      <td>...</td>\n",
       "    </tr>\n",
       "    <tr>\n",
       "      <th>27268</th>\n",
       "      <td>2020-09-17 10:30:59 WIB</td>\n",
       "      <td>31029</td>\n",
       "      <td>45</td>\n",
       "      <td>42</td>\n",
       "      <td>28</td>\n",
       "      <td>119.95</td>\n",
       "    </tr>\n",
       "    <tr>\n",
       "      <th>27269</th>\n",
       "      <td>2020-09-17 10:31:15 WIB</td>\n",
       "      <td>31030</td>\n",
       "      <td>44.9</td>\n",
       "      <td>42.8</td>\n",
       "      <td>22</td>\n",
       "      <td>130.21</td>\n",
       "    </tr>\n",
       "    <tr>\n",
       "      <th>27270</th>\n",
       "      <td>2020-09-17 10:31:31 WIB</td>\n",
       "      <td>31031</td>\n",
       "      <td>44.9</td>\n",
       "      <td>42.8</td>\n",
       "      <td>45</td>\n",
       "      <td>123.26</td>\n",
       "    </tr>\n",
       "    <tr>\n",
       "      <th>27271</th>\n",
       "      <td>2020-09-17 10:31:47 WIB</td>\n",
       "      <td>31032</td>\n",
       "      <td>45</td>\n",
       "      <td>43.8</td>\n",
       "      <td>45</td>\n",
       "      <td>131.95</td>\n",
       "    </tr>\n",
       "    <tr>\n",
       "      <th>27272</th>\n",
       "      <td>2020-09-17 10:32:03 WIB</td>\n",
       "      <td>31033</td>\n",
       "      <td>45.1</td>\n",
       "      <td>43.6</td>\n",
       "      <td>32</td>\n",
       "      <td>152.74</td>\n",
       "    </tr>\n",
       "  </tbody>\n",
       "</table>\n",
       "<p>27273 rows × 6 columns</p>\n",
       "</div>"
      ],
      "text/plain": [
       "                    created_at  entry_id temperature humidity  moisture  \\\n",
       "0      2020-09-10 23:30:56 WIB      3761        27.2     90.6       105   \n",
       "1      2020-09-10 23:31:12 WIB      3762        27.2     90.6        93   \n",
       "2      2020-09-10 23:31:28 WIB      3763        27.1     91.1       119   \n",
       "3      2020-09-10 23:31:45 WIB      3764          27     90.7       108   \n",
       "4      2020-09-10 23:32:01 WIB      3765          27     90.8       115   \n",
       "...                        ...       ...         ...      ...       ...   \n",
       "27268  2020-09-17 10:30:59 WIB     31029          45       42        28   \n",
       "27269  2020-09-17 10:31:15 WIB     31030        44.9     42.8        22   \n",
       "27270  2020-09-17 10:31:31 WIB     31031        44.9     42.8        45   \n",
       "27271  2020-09-17 10:31:47 WIB     31032          45     43.8        45   \n",
       "27272  2020-09-17 10:32:03 WIB     31033        45.1     43.6        32   \n",
       "\n",
       "        field4  \n",
       "0      2206.42  \n",
       "1      2306.42  \n",
       "2      2347.95  \n",
       "3      2452.00  \n",
       "4      2279.26  \n",
       "...        ...  \n",
       "27268   119.95  \n",
       "27269   130.21  \n",
       "27270   123.26  \n",
       "27271   131.95  \n",
       "27272   152.74  \n",
       "\n",
       "[27273 rows x 6 columns]"
      ]
     },
     "execution_count": 6,
     "metadata": {},
     "output_type": "execute_result"
    }
   ],
   "source": [
    "# Make it 0 first, so it's easier to replace i guess\n",
    "i = 0\n",
    "while(i != clovescsv.temperature.count()):\n",
    "    if(cleandf.temperature[i] == \" NAN\"):\n",
    "        cleandf.loc[i, 'temperature'] = cleandf.loc[i-1,'temperature']\n",
    "        cleandf.loc[i, 'humidity'] = cleandf.loc[i-1, 'humidity']\n",
    "    i=i+1\n",
    "cleandf\n",
    "\n",
    "#Note that doing this also replace the clovescsv (WHY?) - We need to use loc to avoid doubling the clovecsv "
   ]
  },
  {
   "cell_type": "markdown",
   "metadata": {},
   "source": [
    "To be safe, lets change the data type"
   ]
  },
  {
   "cell_type": "code",
   "execution_count": 7,
   "metadata": {},
   "outputs": [],
   "source": [
    "cleandf.temperature = pd.to_numeric(cleandf.temperature)\n",
    "cleandf.humidity =  pd.to_numeric(cleandf.humidity)"
   ]
  },
  {
   "cell_type": "code",
   "execution_count": null,
   "metadata": {},
   "outputs": [],
   "source": [
    "i = 0\n",
    "while (i != clovescsv.temperature.count()):\n",
    "    cleandf.loc[i, 'created_at'] = cleandf.created_at[i].replace(\" WIB\",\"\")\n",
    "    i=i+1"
   ]
  },
  {
   "cell_type": "code",
   "execution_count": null,
   "metadata": {},
   "outputs": [],
   "source": [
    "cleandf['created_at'] = pd.to_datetime(cleandf['created_at'], format='%Y-%m-%d %H:%M:%S')\n",
    "#cleandf.set_index(\"created_at\", inplace=False)"
   ]
  },
  {
   "cell_type": "code",
   "execution_count": null,
   "metadata": {},
   "outputs": [],
   "source": [
    "cleandf.dtypes"
   ]
  },
  {
   "cell_type": "markdown",
   "metadata": {},
   "source": [
    "Summarize the Dataset"
   ]
  },
  {
   "cell_type": "code",
   "execution_count": null,
   "metadata": {
    "scrolled": true
   },
   "outputs": [],
   "source": [
    "cleandf.describe()"
   ]
  },
  {
   "cell_type": "markdown",
   "metadata": {},
   "source": [
    "### 2. Plot the graph\n",
    "Use matplot to plot the initial graph"
   ]
  },
  {
   "cell_type": "code",
   "execution_count": null,
   "metadata": {},
   "outputs": [],
   "source": [
    "import matplotlib.pyplot as plt\n",
    "import matplotlib.ticker as ticker\n",
    "import seaborn\n",
    "seaborn.set()"
   ]
  },
  {
   "cell_type": "code",
   "execution_count": null,
   "metadata": {},
   "outputs": [],
   "source": [
    "fig = plt.figure(figsize=(20, 10))\n",
    "gs = plt.GridSpec(nrows=2, ncols=2, figure=fig)\n",
    "\n",
    "ax0 = fig.add_subplot(gs[0, 0])\n",
    "ax0.plot(cleandf.created_at, cleandf.temperature )\n",
    "ax0.set_title(\"Temperature (DHT21)\", fontsize = 16)\n",
    "\n",
    "ax1 = fig.add_subplot(gs[1, 0])\n",
    "ax1.plot(cleandf.created_at, cleandf.humidity)\n",
    "ax1.set_title(\"Humidity (DHT21)\", fontsize = 16)\n",
    "\n",
    "ax2 = fig.add_subplot(gs[:, 1])\n",
    "ax2.plot(cleandf.created_at, cleandf.moisture)\n",
    "ax2.set_title(\"Moisture (FC-28)\", fontsize = 16)\n",
    "\n",
    "fig.suptitle(\"Sensor Data\", fontsize = 25)\n",
    "plt.show()"
   ]
  },
  {
   "cell_type": "markdown",
   "metadata": {},
   "source": [
    "### 3. Plotting moving average\n",
    "Since our moisture data is full of noise, we need to smoothen the curve so we can look at the trend properly"
   ]
  },
  {
   "cell_type": "code",
   "execution_count": null,
   "metadata": {},
   "outputs": [],
   "source": [
    "moistReal = pd.DataFrame(cleandf.moisture)\n",
    "moistEMA = pd.DataFrame(cleandf.moisture.ewm(alpha=0.01,adjust = False).mean())\n",
    "moistSMA = pd.DataFrame(cleandf.moisture.rolling(300,min_periods=1).mean())\n",
    "\n",
    "moist=pd.concat([cleandf.created_at,moistReal,moistEMA,moistSMA],axis=1)\n",
    "moist.columns=['created_at','real','EMA','SMA']\n",
    "moist"
   ]
  },
  {
   "cell_type": "markdown",
   "metadata": {},
   "source": [
    "##### Compare each moving average method"
   ]
  },
  {
   "cell_type": "code",
   "execution_count": null,
   "metadata": {},
   "outputs": [],
   "source": [
    "moist[['real', 'EMA', 'SMA']].plot(color=['green','orchid','orange'], linewidth=3, figsize=(12,6), alpha=0.8)"
   ]
  },
  {
   "cell_type": "markdown",
   "metadata": {},
   "source": [
    "Both EMA and SMA are quite accurate given the right parameters.\n",
    "Let's do the same method for temperature & humidity"
   ]
  },
  {
   "cell_type": "code",
   "execution_count": null,
   "metadata": {},
   "outputs": [],
   "source": [
    "tempReal = pd.DataFrame(cleandf.temperature)\n",
    "tempEMA = pd.DataFrame(cleandf.temperature.ewm(alpha=0.01,adjust = False).mean())\n",
    "tempSMA = pd.DataFrame(cleandf.temperature.rolling(300,min_periods=1).mean())\n",
    "\n",
    "temp=pd.concat([cleandf.created_at,tempReal,tempEMA,tempSMA],axis=1)\n",
    "temp.columns=['created_at','real','EMA','SMA']\n",
    "\n",
    "temp[['real', 'EMA', 'SMA']].plot(color=['green','orchid','orange'], linewidth=3, figsize=(12,6), alpha=0.8)"
   ]
  },
  {
   "cell_type": "code",
   "execution_count": null,
   "metadata": {},
   "outputs": [],
   "source": [
    "humdReal = pd.DataFrame(cleandf.humidity)\n",
    "humdEMA = pd.DataFrame(cleandf.humidity.ewm(alpha=0.01,adjust = False).mean())\n",
    "humdSMA = pd.DataFrame(cleandf.humidity.rolling(300,min_periods=1).mean())\n",
    "\n",
    "humd=pd.concat([humdReal,humdEMA,humdSMA],axis=1)\n",
    "humd.columns=['real','EMA','SMA']\n",
    "\n",
    "humd[['real', 'EMA', 'SMA']].plot(color=['green','orchid','orange'], linewidth=3, figsize=(12,6), alpha=0.8)"
   ]
  },
  {
   "cell_type": "markdown",
   "metadata": {},
   "source": [
    "Create entirely new dataframe for smoothen charts"
   ]
  },
  {
   "cell_type": "code",
   "execution_count": null,
   "metadata": {},
   "outputs": [],
   "source": [
    "smoothdf=pd.concat([cleandf.created_at,moistEMA,tempEMA,humdEMA],axis=1)\n",
    "smoothdf"
   ]
  },
  {
   "cell_type": "code",
   "execution_count": null,
   "metadata": {},
   "outputs": [],
   "source": [
    "fig = plt.figure(figsize=(20, 10))\n",
    "gs = plt.GridSpec(nrows=2, ncols=2, figure=fig)\n",
    "\n",
    "ax0 = fig.add_subplot(gs[0, 0])\n",
    "ax0.plot(smoothdf.created_at, smoothdf.temperature )\n",
    "ax0.set_title(\"Temperature (DHT21)\", fontsize = 16)\n",
    "\n",
    "ax1 = fig.add_subplot(gs[1, 0])\n",
    "ax1.plot(smoothdf.created_at, smoothdf.humidity)\n",
    "ax1.set_title(\"Humidity (DHT21)\", fontsize = 16)\n",
    "\n",
    "ax2 = fig.add_subplot(gs[:, 1])\n",
    "ax2.plot(smoothdf.created_at, smoothdf.moisture)\n",
    "ax2.set_title(\"Moisture (FC-28)\", fontsize = 16)\n",
    "\n",
    "fig.suptitle(\"Sensor Data (Smoothen)\", fontsize = 25)\n",
    "plt.show()"
   ]
  },
  {
   "cell_type": "code",
   "execution_count": null,
   "metadata": {},
   "outputs": [],
   "source": [
    "#smoothdf[['moisture', 'temperature', 'humidity']].plot(color=['blue','red','orange'], linewidth=3, figsize=(10,6), alpha=0.8)\n",
    "plt.figure(figsize=(30,20))\n",
    "plt.plot(smoothdf.created_at,smoothdf[['moisture', 'temperature', 'humidity']], linewidth=3)\n",
    "plt.xticks(fontsize = 25)\n",
    "plt.yticks(fontsize = 25)\n",
    "plt.show()"
   ]
  },
  {
   "cell_type": "markdown",
   "metadata": {},
   "source": [
    "### 4. Analyze the data\n",
    "We need to split the data by one-day basis to look more detial on how each parameters correlate"
   ]
  },
  {
   "cell_type": "code",
   "execution_count": null,
   "metadata": {},
   "outputs": [],
   "source": [
    "daybasis=pd.concat([pd.DataFrame(moist.created_at[(moist['created_at'] > '2020-09-12 00:00:00') & (moist['created_at'] < '2020-09-13 23:59:59')]), \\\n",
    "                    moistSMA[(moist['created_at'] > '2020-09-12 00:00:00') & (moist['created_at'] < '2020-09-13 23:59:59')],\\\n",
    "                    tempSMA[(moist['created_at'] > '2020-09-12 00:00:00') & (moist['created_at'] < '2020-09-13 23:59:59')],\\\n",
    "                    humdSMA[(moist['created_at'] > '2020-09-12 00:00:00') & (moist['created_at'] < '2020-09-13 23:59:59')]],\\\n",
    "                    axis=1)\n",
    "\n",
    "daybasis.dtypes"
   ]
  },
  {
   "cell_type": "code",
   "execution_count": null,
   "metadata": {},
   "outputs": [],
   "source": [
    "x = daybasis['created_at']\n",
    "y = daybasis[['moisture','temperature','humidity']]\n",
    "\n",
    "plt.figure(figsize=(30,20))\n",
    "plt.xticks(fontsize = 25, rotation = 45)\n",
    "plt.yticks(fontsize = 25)\n",
    "plt.plot(x, y, linewidth = 4)\n",
    "plt.legend(['Moisture','Temperature','Humidity'],prop = {'size': 30})\n",
    "plt.show()\n"
   ]
  },
  {
   "cell_type": "markdown",
   "metadata": {},
   "source": [
    "from the data we can see that there's an increase in moisture around 15:00 to 08:00"
   ]
  },
  {
   "cell_type": "markdown",
   "metadata": {},
   "source": [
    "#### Explolatory Analysis with Time Series Decomposition\n",
    "Based on this link https://thecleverprogrammer.com/2020/07/01/time-series-analysis-and-forecasting-with-python/"
   ]
  },
  {
   "cell_type": "code",
   "execution_count": null,
   "metadata": {},
   "outputs": [],
   "source": [
    "from pylab import rcParams\n",
    "import statsmodels.api as sm"
   ]
  },
  {
   "cell_type": "code",
   "execution_count": null,
   "metadata": {},
   "outputs": [],
   "source": [
    "#lets create new dataframe. Just to be clear - tsdf = time series dataframe (with time indexing)\n",
    "#tsdf = cleandf.copy()\n",
    "tsdf = smoothdf.copy()\n",
    "tsdf = tsdf.set_index('created_at')\n",
    "tsdf.index"
   ]
  },
  {
   "cell_type": "code",
   "execution_count": null,
   "metadata": {},
   "outputs": [],
   "source": [
    "# y as the moisture label \n",
    "y = tsdf['moisture'].resample('1H').mean()\n",
    "y = pd.DataFrame(y)"
   ]
  },
  {
   "cell_type": "code",
   "execution_count": null,
   "metadata": {},
   "outputs": [],
   "source": [
    "# we need to look for missing values first\n",
    "y.isna().sum()"
   ]
  },
  {
   "cell_type": "code",
   "execution_count": null,
   "metadata": {},
   "outputs": [],
   "source": [
    "#replace the missing value\n",
    "#y.loc[y['moisture'].isna() == True] = y['moisture'].mean()\n",
    "#y.iloc[10,0] == 'NaN'\n",
    "#y.loc[y['moisture'].isna() == True].iloc[0] \n",
    "#y = y.fillna(0)\n",
    "i = 0\n",
    "while (i != len(y)):\n",
    "    if(pd.isna(y['moisture'][i])):\n",
    "        #need a better way to replace NAN value. Using nearby observation (i to i+5) gave an error with returning NaN\n",
    "        y['moisture'][i] = y['moisture'][i-1]\n",
    "    i=i+1"
   ]
  },
  {
   "cell_type": "code",
   "execution_count": null,
   "metadata": {},
   "outputs": [],
   "source": [
    "y[pd.isna(y['moisture']) == True] #if there's nothing to return, then you're doing good."
   ]
  },
  {
   "cell_type": "code",
   "execution_count": null,
   "metadata": {},
   "outputs": [],
   "source": [
    "# 33s freq\n",
    "freq=round((24*60)/(33/60))\n",
    "decomposition = sm.tsa.seasonal_decompose(y, model='additive', freq=24)"
   ]
  },
  {
   "cell_type": "code",
   "execution_count": null,
   "metadata": {},
   "outputs": [],
   "source": [
    "rcParams['figure.figsize'] = 18, 8\n",
    "fig = decomposition.plot()\n",
    "plt.show()"
   ]
  },
  {
   "cell_type": "markdown",
   "metadata": {},
   "source": [
    "#### Test if the data is stationary"
   ]
  },
  {
   "cell_type": "code",
   "execution_count": null,
   "metadata": {},
   "outputs": [],
   "source": [
    "from statsmodels.tsa.stattools import adfuller"
   ]
  },
  {
   "cell_type": "code",
   "execution_count": null,
   "metadata": {},
   "outputs": [],
   "source": [
    "result = adfuller(y)\n",
    "result\n",
    "print('ADF Statistic: %f' % result[0])\n",
    "print('p-value: %f' % result[1])\n",
    "for key, value in result[4].items():\n",
    "    print('\\t%s: %.3f' % (key, value))"
   ]
  },
  {
   "cell_type": "markdown",
   "metadata": {},
   "source": [
    "### 5. Transform to Stationary"
   ]
  },
  {
   "cell_type": "code",
   "execution_count": null,
   "metadata": {},
   "outputs": [],
   "source": [
    "from statsmodels.graphics.tsaplots import plot_acf, plot_pacf"
   ]
  },
  {
   "cell_type": "code",
   "execution_count": null,
   "metadata": {},
   "outputs": [],
   "source": [
    "plot_acf(y, lags = 60);\n",
    "plt.xlim((0,60))\n",
    "plot_pacf(y, lags = 60);"
   ]
  },
  {
   "cell_type": "markdown",
   "metadata": {},
   "source": [
    "Order \\\n",
    "p = 55 for decaying to zero \\\n",
    "q = 2 for moving to critical \\\n",
    "d = 1 for making stationary?"
   ]
  },
  {
   "cell_type": "markdown",
   "metadata": {},
   "source": [
    "### 6. Forecasting"
   ]
  },
  {
   "cell_type": "code",
   "execution_count": null,
   "metadata": {},
   "outputs": [],
   "source": [
    "#choose the stationary data\n",
    "y_train = y[:round(len(y)*0.8)]\n",
    "y_test = y[round(len(y)*0.8):]"
   ]
  },
  {
   "cell_type": "code",
   "execution_count": null,
   "metadata": {},
   "outputs": [],
   "source": [
    "import itertools\n",
    "p = d = q = range(0, 3)\n",
    "#p = range(54,57)\n",
    "#d = range(0,2)\n",
    "#q = range(0,3)\n",
    "pdq = list(itertools.product(p, d, q))\n",
    "seasonal_pdq = [(x[0], x[1], x[2], 24) for x in list(itertools.product(p, d, q))]"
   ]
  },
  {
   "cell_type": "code",
   "execution_count": null,
   "metadata": {},
   "outputs": [],
   "source": [
    "for param in pdq:\n",
    "    for param_seasonal in seasonal_pdq:\n",
    "        try:\n",
    "            mod = sm.tsa.statespace.SARIMAX(y_train,\n",
    "                                            order=param,\n",
    "                                            seasonal_order=param_seasonal,\n",
    "                                            enforce_stationarity=False,\n",
    "                                            enforce_invertibility=False)\n",
    "            results = mod.fit()\n",
    "            print('ARIMA{}x{} - AIC:{}'.format(param, param_seasonal, results.aic))\n",
    "        except:\n",
    "            continue"
   ]
  },
  {
   "cell_type": "code",
   "execution_count": null,
   "metadata": {},
   "outputs": [],
   "source": [
    "mod = sm.tsa.statespace.SARIMAX(y_train,\n",
    "                                order=(4, 1, 1),\n",
    "                                seasonal_order=(1, 1, 1, 24),\n",
    "                                enforce_stationarity=False,\n",
    "                                enforce_invertibility=False)\n",
    "results = mod.fit()\n",
    "results.summary()"
   ]
  },
  {
   "cell_type": "code",
   "execution_count": null,
   "metadata": {},
   "outputs": [],
   "source": [
    "results.plot_diagnostics(figsize=(16, 8))\n",
    "plt.show()"
   ]
  },
  {
   "cell_type": "code",
   "execution_count": null,
   "metadata": {},
   "outputs": [],
   "source": [
    "pred = results.get_prediction(dynamic=False)\n",
    "pred_ci = pred.conf_int()\n",
    "ax = y_train.plot(label='observed',linewidth = 1)\n",
    "ax.fill_between(pred_ci.index,\n",
    "                pred_ci.iloc[:, 0],\n",
    "                pred_ci.iloc[:, 1], color='k', alpha=.25)\n",
    "pred.predicted_mean.plot(label='One-step ahead Forecast', alpha=.7, figsize=(12, 6),color = 'r')\n",
    "\n",
    "ax.set_xlabel('Date')\n",
    "ax.set_ylabel('Moisture')\n",
    "plt.ylim((35,150))\n",
    "plt.legend()\n",
    "plt.show()"
   ]
  },
  {
   "cell_type": "code",
   "execution_count": null,
   "metadata": {},
   "outputs": [],
   "source": [
    "y_forecasted = pred.predicted_mean\n",
    "mse = ((y_forecasted - y_train.moisture['2020-09-10 23:00:00':]) ** 2).mean()\n",
    "print('The Mean Squared Error of our forecasts is {}'.format(round(mse, 2)))\n",
    "print('The Root Mean Squared Error of our forecasts is {}'.format(round(np.sqrt(mse), 2)))"
   ]
  },
  {
   "cell_type": "code",
   "execution_count": null,
   "metadata": {},
   "outputs": [],
   "source": [
    "pred_uc = results.get_forecast(steps=100)\n",
    "pred_ci = pred_uc.conf_int()\n",
    "ax = y.plot(label='observed', figsize=(14, 7))\n",
    "pred_uc.predicted_mean.plot(ax=ax, label='Forecast')\n",
    "ax.fill_between(pred_ci.index,\n",
    "                pred_ci.iloc[:, 0],\n",
    "                pred_ci.iloc[:, 1], color='k', alpha=.25)\n",
    "ax.set_xlabel('Date')\n",
    "ax.set_ylabel('Moisture')\n",
    "plt.ylim((0,150))\n",
    "plt.legend()\n",
    "plt.show()"
   ]
  },
  {
   "cell_type": "code",
   "execution_count": null,
   "metadata": {},
   "outputs": [],
   "source": [
    "y_forecasted = pred_uc.predicted_mean\n",
    "y_truth = y_test['moisture']['2020-09-16 03:32:15':]\n",
    "mse = ((y_forecasted - y_truth) ** 2).mean()\n",
    "print('The Mean Squared Error of our forecasts is {}'.format(round(mse, 2)))\n",
    "print('The Root Mean Squared Error of our forecasts is {}'.format(round(np.sqrt(mse), 2)))"
   ]
  },
  {
   "cell_type": "code",
   "execution_count": null,
   "metadata": {},
   "outputs": [],
   "source": []
  },
  {
   "cell_type": "code",
   "execution_count": null,
   "metadata": {},
   "outputs": [],
   "source": []
  },
  {
   "cell_type": "code",
   "execution_count": null,
   "metadata": {},
   "outputs": [],
   "source": []
  },
  {
   "cell_type": "code",
   "execution_count": null,
   "metadata": {},
   "outputs": [],
   "source": []
  },
  {
   "cell_type": "code",
   "execution_count": null,
   "metadata": {},
   "outputs": [],
   "source": []
  },
  {
   "cell_type": "code",
   "execution_count": null,
   "metadata": {},
   "outputs": [],
   "source": []
  }
 ],
 "metadata": {
  "kernelspec": {
   "display_name": "Python 3",
   "language": "python",
   "name": "python3"
  },
  "language_info": {
   "codemirror_mode": {
    "name": "ipython",
    "version": 3
   },
   "file_extension": ".py",
   "mimetype": "text/x-python",
   "name": "python",
   "nbconvert_exporter": "python",
   "pygments_lexer": "ipython3",
   "version": "3.8.3"
  }
 },
 "nbformat": 4,
 "nbformat_minor": 4
}
